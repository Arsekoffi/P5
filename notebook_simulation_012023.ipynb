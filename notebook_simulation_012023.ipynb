{
 "cells": [
  {
   "cell_type": "markdown",
   "id": "c1899b4f",
   "metadata": {},
   "source": [
    "# Projet 5: Segmentez des clients d'un site e-commerce"
   ]
  },
  {
   "cell_type": "markdown",
   "id": "82592c83",
   "metadata": {},
   "source": [
    "## notebook de simulation"
   ]
  },
  {
   "cell_type": "markdown",
   "id": "7675c87e",
   "metadata": {},
   "source": [
    "Dans cette partie, l'objectif est de déterminer la fréquence nécessaire de mise à jour du modèle de segmentation, afin que celui-ci reste pertinent.\n",
    "-\tPour prendre un exemple, supposons que l’entraînement du modèle initial M0 ait été réalisé à T0 pour un fichier clients F0, qui donne la liste des numéros de clusters C0, CO=M0.fit(F0).\n",
    "-\tÀ T1=T0 +n jours, un nouveau modèle M1 est entraîné sur le nouveau fichier clients F1 à T1, et donne une nouvelle liste de clusters C1, C1_new = M1.fit(F1).\n",
    "-\tSi on utilise le modèle initial M0, à T1 la prédiction des numéros de clusters du fichier F1 des clients à T1 donne C1_init = M0.predict(F1).\n",
    "-\tIl s’agit de comparer les numéros de clusters à T1 du fichier F1, selon que l’on utilise le modèle initial créé à T0(M0) via un « predict », ou le modèle créé à T1 via un « fit ».\n",
    "\n",
    "Il est possible d’évaluer la cohérence entre les clusters de départ et le partitionnement trouvé par K-means en utilisant l’indice Ajusted_Rand_Score\n",
    "\n",
    "\n",
    "Nous commencerons notre simulation avec les données existantes à t=12 mois ,nous recommencerons les simulations en ajoutant 1 mois supplementaire, et ainsi de suite. Nous comparerons les numéros de clusters à T1 du fichier F1, selon que l’on utilise le modèle initial créé à T0(M0) via un « predict », ou le modèle créé à T1 via un « fit ».\n",
    "\n"
   ]
  },
  {
   "cell_type": "markdown",
   "id": "97dfdd5b",
   "metadata": {},
   "source": [
    "#### Importation des données "
   ]
  },
  {
   "cell_type": "code",
   "execution_count": 17,
   "id": "40ae6794",
   "metadata": {},
   "outputs": [],
   "source": [
    "import pandas as pd\n",
    "import matplotlib.pyplot as plt\n",
    "import seaborn as sns\n",
    "import numpy as np\n",
    "import sklearn\n",
    "from sklearn.preprocessing import StandardScaler,MinMaxScaler\n",
    "from math import pi\n",
    "from sklearn.cluster import KMeans , AgglomerativeClustering, DBSCAN\n",
    "\n",
    "from sklearn.metrics.cluster import adjusted_rand_score\n",
    "\n",
    "from datetime import datetime\n",
    "import matplotlib.dates as mdates"
   ]
  },
  {
   "cell_type": "markdown",
   "id": "5128cf34",
   "metadata": {},
   "source": [
    "Dans cette partie, nous allons utiliser le fichier commande créé dans le notebook 1 (exploration de données). il s'agira dans une premier temps de créer un fichier comprenant les commandes sélectionnées en fonction d'une période donnée."
   ]
  },
  {
   "cell_type": "code",
   "execution_count": 2,
   "id": "bc8fd16e",
   "metadata": {},
   "outputs": [
    {
     "data": {
      "text/html": [
       "<div>\n",
       "<style scoped>\n",
       "    .dataframe tbody tr th:only-of-type {\n",
       "        vertical-align: middle;\n",
       "    }\n",
       "\n",
       "    .dataframe tbody tr th {\n",
       "        vertical-align: top;\n",
       "    }\n",
       "\n",
       "    .dataframe thead th {\n",
       "        text-align: right;\n",
       "    }\n",
       "</style>\n",
       "<table border=\"1\" class=\"dataframe\">\n",
       "  <thead>\n",
       "    <tr style=\"text-align: right;\">\n",
       "      <th></th>\n",
       "      <th>customer_id</th>\n",
       "      <th>customer_unique_id</th>\n",
       "      <th>customer_zip_code_prefix</th>\n",
       "      <th>customer_city</th>\n",
       "      <th>region</th>\n",
       "      <th>order_id</th>\n",
       "      <th>order_purchase_timestamp</th>\n",
       "      <th>order_approved_at</th>\n",
       "      <th>order_delivered_carrier_date</th>\n",
       "      <th>order_delivered_customer_date</th>\n",
       "      <th>...</th>\n",
       "      <th>moyen_paiement_prefere</th>\n",
       "      <th>echeances</th>\n",
       "      <th>frais_de_port</th>\n",
       "      <th>delivery_delay</th>\n",
       "      <th>review_mean_score</th>\n",
       "      <th>product_volume_cm3</th>\n",
       "      <th>dernier_achat</th>\n",
       "      <th>rfm_recence</th>\n",
       "      <th>rfm_frequence</th>\n",
       "      <th>rfm_montant</th>\n",
       "    </tr>\n",
       "  </thead>\n",
       "  <tbody>\n",
       "    <tr>\n",
       "      <th>0</th>\n",
       "      <td>06b8999e2fba1a1fbc88172c00ba8bc7</td>\n",
       "      <td>861eff4711a542e4b93843c6dd7febb0</td>\n",
       "      <td>14409.0</td>\n",
       "      <td>franca</td>\n",
       "      <td>sud_est</td>\n",
       "      <td>00e7ee1b050b8499577073aeb2a297a1</td>\n",
       "      <td>2017-05-16 15:05:35</td>\n",
       "      <td>2017-05-16 15:22:12</td>\n",
       "      <td>2017-05-23 10:47:57</td>\n",
       "      <td>2017-05-25 10:35:35</td>\n",
       "      <td>...</td>\n",
       "      <td>credit_card</td>\n",
       "      <td>2.0</td>\n",
       "      <td>21.88</td>\n",
       "      <td>8 days 19:30:00</td>\n",
       "      <td>4.0</td>\n",
       "      <td>107136.0</td>\n",
       "      <td>2017-05-16 15:05:35</td>\n",
       "      <td>470.0</td>\n",
       "      <td>1.0</td>\n",
       "      <td>146.87</td>\n",
       "    </tr>\n",
       "    <tr>\n",
       "      <th>1</th>\n",
       "      <td>18955e83d337fd6b2def6b18a428ac77</td>\n",
       "      <td>290c77bc529b7ac935b93aa66c333dc3</td>\n",
       "      <td>9790.0</td>\n",
       "      <td>sao bernardo do campo</td>\n",
       "      <td>sud_est</td>\n",
       "      <td>29150127e6685892b6eab3eec79f59c7</td>\n",
       "      <td>2018-01-12 20:48:24</td>\n",
       "      <td>2018-01-12 20:58:32</td>\n",
       "      <td>2018-01-15 17:14:59</td>\n",
       "      <td>2018-01-29 12:41:19</td>\n",
       "      <td>...</td>\n",
       "      <td>credit_card</td>\n",
       "      <td>8.0</td>\n",
       "      <td>46.48</td>\n",
       "      <td>16 days 15:52:55</td>\n",
       "      <td>5.0</td>\n",
       "      <td>53400.0</td>\n",
       "      <td>2018-01-12 20:48:24</td>\n",
       "      <td>229.0</td>\n",
       "      <td>1.0</td>\n",
       "      <td>335.48</td>\n",
       "    </tr>\n",
       "    <tr>\n",
       "      <th>2</th>\n",
       "      <td>4e7b3e00288586ebd08712fdd0374a03</td>\n",
       "      <td>060e732b5b29e8181a18229c7b0b2b5e</td>\n",
       "      <td>1151.0</td>\n",
       "      <td>sao paulo</td>\n",
       "      <td>sud_est</td>\n",
       "      <td>b2059ed67ce144a36e2aa97d2c9e9ad2</td>\n",
       "      <td>2018-05-19 16:07:45</td>\n",
       "      <td>2018-05-20 16:19:10</td>\n",
       "      <td>2018-06-11 14:31:00</td>\n",
       "      <td>2018-06-14 17:58:51</td>\n",
       "      <td>...</td>\n",
       "      <td>credit_card</td>\n",
       "      <td>7.0</td>\n",
       "      <td>17.79</td>\n",
       "      <td>26 days 01:51:06</td>\n",
       "      <td>5.0</td>\n",
       "      <td>45968.0</td>\n",
       "      <td>2018-05-19 16:07:45</td>\n",
       "      <td>102.0</td>\n",
       "      <td>1.0</td>\n",
       "      <td>157.73</td>\n",
       "    </tr>\n",
       "    <tr>\n",
       "      <th>3</th>\n",
       "      <td>b2b6027bc5c5109e529d4dc6358b12c3</td>\n",
       "      <td>259dac757896d24d7702b9acbbff3f3c</td>\n",
       "      <td>8775.0</td>\n",
       "      <td>mogi das cruzes</td>\n",
       "      <td>sud_est</td>\n",
       "      <td>951670f92359f4fe4a63112aa7306eba</td>\n",
       "      <td>2018-03-13 16:06:38</td>\n",
       "      <td>2018-03-13 17:29:19</td>\n",
       "      <td>2018-03-27 23:22:42</td>\n",
       "      <td>2018-03-28 16:04:25</td>\n",
       "      <td>...</td>\n",
       "      <td>credit_card</td>\n",
       "      <td>1.0</td>\n",
       "      <td>23.36</td>\n",
       "      <td>14 days 23:57:47</td>\n",
       "      <td>5.0</td>\n",
       "      <td>79968.0</td>\n",
       "      <td>2018-03-13 16:06:38</td>\n",
       "      <td>169.0</td>\n",
       "      <td>1.0</td>\n",
       "      <td>173.30</td>\n",
       "    </tr>\n",
       "    <tr>\n",
       "      <th>4</th>\n",
       "      <td>4f2d8ab171c80ec8364f7c12e35b23ad</td>\n",
       "      <td>345ecd01c38d18a9036ed96c73b8d066</td>\n",
       "      <td>13056.0</td>\n",
       "      <td>campinas</td>\n",
       "      <td>sud_est</td>\n",
       "      <td>6b7d50bd145f6fc7f33cebabd7e49d0f</td>\n",
       "      <td>2018-07-29 09:51:30</td>\n",
       "      <td>2018-07-29 10:10:09</td>\n",
       "      <td>2018-07-30 15:16:00</td>\n",
       "      <td>2018-08-09 20:55:48</td>\n",
       "      <td>...</td>\n",
       "      <td>credit_card</td>\n",
       "      <td>8.0</td>\n",
       "      <td>22.25</td>\n",
       "      <td>11 days 11:04:18</td>\n",
       "      <td>5.0</td>\n",
       "      <td>23625.0</td>\n",
       "      <td>2018-07-29 09:51:30</td>\n",
       "      <td>32.0</td>\n",
       "      <td>1.0</td>\n",
       "      <td>252.25</td>\n",
       "    </tr>\n",
       "  </tbody>\n",
       "</table>\n",
       "<p>5 rows × 45 columns</p>\n",
       "</div>"
      ],
      "text/plain": [
       "                        customer_id                customer_unique_id  \\\n",
       "0  06b8999e2fba1a1fbc88172c00ba8bc7  861eff4711a542e4b93843c6dd7febb0   \n",
       "1  18955e83d337fd6b2def6b18a428ac77  290c77bc529b7ac935b93aa66c333dc3   \n",
       "2  4e7b3e00288586ebd08712fdd0374a03  060e732b5b29e8181a18229c7b0b2b5e   \n",
       "3  b2b6027bc5c5109e529d4dc6358b12c3  259dac757896d24d7702b9acbbff3f3c   \n",
       "4  4f2d8ab171c80ec8364f7c12e35b23ad  345ecd01c38d18a9036ed96c73b8d066   \n",
       "\n",
       "   customer_zip_code_prefix          customer_city   region  \\\n",
       "0                   14409.0                 franca  sud_est   \n",
       "1                    9790.0  sao bernardo do campo  sud_est   \n",
       "2                    1151.0              sao paulo  sud_est   \n",
       "3                    8775.0        mogi das cruzes  sud_est   \n",
       "4                   13056.0               campinas  sud_est   \n",
       "\n",
       "                           order_id order_purchase_timestamp  \\\n",
       "0  00e7ee1b050b8499577073aeb2a297a1      2017-05-16 15:05:35   \n",
       "1  29150127e6685892b6eab3eec79f59c7      2018-01-12 20:48:24   \n",
       "2  b2059ed67ce144a36e2aa97d2c9e9ad2      2018-05-19 16:07:45   \n",
       "3  951670f92359f4fe4a63112aa7306eba      2018-03-13 16:06:38   \n",
       "4  6b7d50bd145f6fc7f33cebabd7e49d0f      2018-07-29 09:51:30   \n",
       "\n",
       "     order_approved_at order_delivered_carrier_date  \\\n",
       "0  2017-05-16 15:22:12          2017-05-23 10:47:57   \n",
       "1  2018-01-12 20:58:32          2018-01-15 17:14:59   \n",
       "2  2018-05-20 16:19:10          2018-06-11 14:31:00   \n",
       "3  2018-03-13 17:29:19          2018-03-27 23:22:42   \n",
       "4  2018-07-29 10:10:09          2018-07-30 15:16:00   \n",
       "\n",
       "  order_delivered_customer_date  ... moyen_paiement_prefere echeances  \\\n",
       "0           2017-05-25 10:35:35  ...            credit_card       2.0   \n",
       "1           2018-01-29 12:41:19  ...            credit_card       8.0   \n",
       "2           2018-06-14 17:58:51  ...            credit_card       7.0   \n",
       "3           2018-03-28 16:04:25  ...            credit_card       1.0   \n",
       "4           2018-08-09 20:55:48  ...            credit_card       8.0   \n",
       "\n",
       "   frais_de_port    delivery_delay review_mean_score  product_volume_cm3  \\\n",
       "0          21.88   8 days 19:30:00               4.0            107136.0   \n",
       "1          46.48  16 days 15:52:55               5.0             53400.0   \n",
       "2          17.79  26 days 01:51:06               5.0             45968.0   \n",
       "3          23.36  14 days 23:57:47               5.0             79968.0   \n",
       "4          22.25  11 days 11:04:18               5.0             23625.0   \n",
       "\n",
       "         dernier_achat  rfm_recence rfm_frequence rfm_montant  \n",
       "0  2017-05-16 15:05:35        470.0           1.0      146.87  \n",
       "1  2018-01-12 20:48:24        229.0           1.0      335.48  \n",
       "2  2018-05-19 16:07:45        102.0           1.0      157.73  \n",
       "3  2018-03-13 16:06:38        169.0           1.0      173.30  \n",
       "4  2018-07-29 09:51:30         32.0           1.0      252.25  \n",
       "\n",
       "[5 rows x 45 columns]"
      ]
     },
     "execution_count": 2,
     "metadata": {},
     "output_type": "execute_result"
    }
   ],
   "source": [
    "#chargement de la table\n",
    "df_clients = pd.read_csv('data_clients.csv')\n",
    "df_clients.head()"
   ]
  },
  {
   "cell_type": "code",
   "execution_count": 3,
   "id": "e357c7f3",
   "metadata": {},
   "outputs": [],
   "source": [
    "# Conversion en type datetime\n",
    "var_to_datetime=['order_purchase_timestamp',\n",
    " 'order_approved_at',\n",
    " 'order_delivered_carrier_date',\n",
    " 'order_delivered_customer_date',\n",
    " 'order_estimated_delivery_date',\n",
    "'shipping_limit_date',\n",
    "    'dernier_achat' ]\n",
    "for var in var_to_datetime:\n",
    "    df_clients[var] = pd.to_datetime(df_clients[var], format='%Y-%m-%d %H:%M:%S')"
   ]
  },
  {
   "cell_type": "code",
   "execution_count": 5,
   "id": "ee702c21",
   "metadata": {},
   "outputs": [
    {
     "name": "stdout",
     "output_type": "stream",
     "text": [
      "Période d'achat : du 03/10/2016 09h10 au 29/08/2018 15h08\n"
     ]
    }
   ],
   "source": [
    "# Période de commande\n",
    "order_min = df_clients['order_purchase_timestamp'].min().strftime('%d/%m/%Y %Hh%m')\n",
    "order_max = df_clients['order_purchase_timestamp'].max().strftime('%d/%m/%Y %Hh%m')\n",
    "print(f'Période d\\'achat : du {order_min} au {order_max}')"
   ]
  },
  {
   "cell_type": "code",
   "execution_count": 6,
   "id": "a6a06ee3",
   "metadata": {},
   "outputs": [
    {
     "name": "stdout",
     "output_type": "stream",
     "text": [
      "La période d'achat est de 23 mois\n"
     ]
    }
   ],
   "source": [
    "#La periode de commande en mois \n",
    "orders_months = round((df_clients['order_purchase_timestamp'].max() - df_clients['order_purchase_timestamp'].min())/ np.timedelta64(1,'M'))\n",
    "\n",
    "print(\"La période d'achat est de\",orders_months,\"mois\")"
   ]
  },
  {
   "cell_type": "code",
   "execution_count": 7,
   "id": "fa5534d3",
   "metadata": {},
   "outputs": [],
   "source": [
    "'''Fonction qui sélectionne les commandes en fonction de la période \n",
    "définie.\n",
    "On recalculera les différentes variables utilisées dans la simulation.\n",
    "'''\n",
    "def selection_period(df, initial=False, period=1):\n",
    "    #Fonction qui génère un fichier en fonction de la date \n",
    "      \n",
    "    # selection en fonction de la date de commande\n",
    "    #order Month\n",
    "    df[\"sale_month\"] = df['order_purchase_timestamp'].dt.month\n",
    "    start=df['order_purchase_timestamp'].min()\n",
    "    if(initial == True):\n",
    "        period = 12\n",
    "    else:\n",
    "        period = 12+period\n",
    "    stop=start + pd.DateOffset(months=period)\n",
    "        \n",
    "    df=df[(df['order_purchase_timestamp']>=start)\n",
    "                              & (df['order_purchase_timestamp']<stop)]\n",
    "    \n",
    "    # List of orders on period\n",
    "    period_orders = df.order_id.unique()\n",
    "    \n",
    "    # Calculate other features on period\n",
    "    df = df[df['order_id'].isin(period_orders)]\n",
    "    #creation du dataset clients \n",
    "    \n",
    "    dico_aggr = {\n",
    "             'rfm_recence': 'mean',\n",
    "             'rfm_frequence': 'mean',\n",
    "             'rfm_montant': 'mean',\n",
    "             'review_mean_score':'mean',\n",
    "             'nombre_produits': 'mean',\n",
    "             'echeances': 'mean',\n",
    "             }\n",
    "    df_new=df.groupby(['customer_unique_id']).agg(dico_aggr)\n",
    "    \n",
    "    return df_new"
   ]
  },
  {
   "cell_type": "code",
   "execution_count": 8,
   "id": "28c6d9c9",
   "metadata": {},
   "outputs": [],
   "source": [
    "#transformation en log \n",
    "def transformation_log(df, var):\n",
    "    for i in var:\n",
    "         df[i] = np.log1p(df[i])\n",
    "    return df"
   ]
  },
  {
   "cell_type": "code",
   "execution_count": 9,
   "id": "042a505b",
   "metadata": {},
   "outputs": [],
   "source": [
    "def scaler(df):\n",
    "    cols=df.columns\n",
    "    scaler=StandardScaler()\n",
    "    df=scaler.fit_transform(df)\n",
    "    df=pd.DataFrame(df,columns=[cols])\n",
    "    return df"
   ]
  },
  {
   "cell_type": "code",
   "execution_count": 10,
   "id": "41484abf",
   "metadata": {},
   "outputs": [],
   "source": [
    "#fonction de calcul de l'ARI\n",
    "def fonction_maintenance (df, k):\n",
    "    \n",
    "    df_initial=selection_period(df,initial=True, period=1)\n",
    "    #au temps T0\n",
    "    #var=df_initial.columns.to_list()\n",
    "    #var.remove('rfm_recence')\n",
    "    #df_initial=transformation_log(df_initial, var)\n",
    "    X_0=scaler(df_initial).values\n",
    "    \n",
    "    model_initial=KMeans(n_clusters=k)\n",
    "    model_initial.fit(X_0)\n",
    "    model_initial_labels=model_initial.labels_\n",
    "    \n",
    "    \n",
    "    #simulaition Ti, Ti+1\n",
    "    ari_score = []\n",
    "    for i in range(1,int((orders_months-12))):\n",
    "        df_heredite=selection_period(df,initial=False, period=i)\n",
    "        #df_heredite=transformation_log(df_heredite, var)\n",
    "        \n",
    "        X=scaler(df_heredite).values\n",
    "        model_h=KMeans(n_clusters=k)\n",
    "        model_h.fit(X)\n",
    "        model_h_labels=model_h.labels_\n",
    "       \n",
    "        ari_i = adjusted_rand_score(model_initial.predict(X),model_h_labels)\n",
    "        ari_score.append([i,ari_i])\n",
    "        \n",
    "    return ari_score"
   ]
  },
  {
   "cell_type": "code",
   "execution_count": 15,
   "id": "b314d1b9",
   "metadata": {},
   "outputs": [],
   "source": [
    "ari_score=fonction_maintenance (df_clients, 6)"
   ]
  },
  {
   "cell_type": "code",
   "execution_count": 16,
   "id": "8089dc9f",
   "metadata": {
    "scrolled": true
   },
   "outputs": [
    {
     "data": {
      "image/png": "[encoded data removed]",
      "text/plain": [
       "<Figure size 1000x600 with 1 Axes>"
      ]
     },
     "metadata": {},
     "output_type": "display_data"
    }
   ],
   "source": [
    "ari_score = pd.DataFrame(ari_score, columns=[\"periode\", \"ARI\"])\n",
    "\n",
    "# plot ARI Score\n",
    "fig = plt.figure(figsize=(10,6))\n",
    "sns.lineplot(data=ari_score, x=\"periode\", y=\"ARI\")\n",
    "plt.xlabel(\"Période (mois)\")\n",
    "plt.ylabel(\"Score ARI\")\n",
    "plt.title(\"Stabilité temporelle de la segmentation par K-Means\",\n",
    "          fontsize=18,\n",
    "          color=\"b\")\n",
    "plt.show()"
   ]
  },
  {
   "cell_type": "markdown",
   "id": "7d3f73c7",
   "metadata": {},
   "source": [
    "Sur ce plot des scores ARI obtenus, on remarque une forte inflexion après 4 mois sur les clients initiaux.\n",
    "\n",
    "Il faudra donc prévoir la maintenance du programme de segmentation tous les 4 mois dans un premier temps puis re-tester cette stabilité temporelle au fil du temps afin de l'affiner."
   ]
  },
  {
   "cell_type": "code",
   "execution_count": null,
   "id": "51c8c961",
   "metadata": {},
   "outputs": [],
   "source": []
  }
 ],
 "metadata": {
  "kernelspec": {
   "display_name": "Python 3 (ipykernel)",
   "language": "python",
   "name": "python3"
  },
  "language_info": {
   "codemirror_mode": {
    "name": "ipython",
    "version": 3
   },
   "file_extension": ".py",
   "mimetype": "text/x-python",
   "name": "python",
   "nbconvert_exporter": "python",
   "pygments_lexer": "ipython3",
   "version": "3.9.15"
  }
 },
 "nbformat": 4,
 "nbformat_minor": 5
}
